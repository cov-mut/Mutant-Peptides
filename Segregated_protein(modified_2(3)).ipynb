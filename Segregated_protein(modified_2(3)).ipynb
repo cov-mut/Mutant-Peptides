{
 "cells": [
  {
   "cell_type": "code",
   "execution_count": 1,
   "metadata": {
    "scrolled": true
   },
   "outputs": [
    {
     "name": "stdout",
     "output_type": "stream",
     "text": [
      "Requirement already satisfied: biopython in c:\\users\\bansa\\anaconda3\\lib\\site-packages (1.78)\n",
      "Requirement already satisfied: numpy in c:\\users\\bansa\\anaconda3\\lib\\site-packages (from biopython) (1.19.2)\n",
      "Note: you may need to restart the kernel to use updated packages.\n"
     ]
    }
   ],
   "source": [
    "pip install biopython"
   ]
  },
  {
   "cell_type": "code",
   "execution_count": 2,
   "metadata": {
    "scrolled": true
   },
   "outputs": [
    {
     "ename": "NameError",
     "evalue": "name 'os' is not defined",
     "output_type": "error",
     "traceback": [
      "\u001b[1;31m---------------------------------------------------------------------------\u001b[0m",
      "\u001b[1;31mNameError\u001b[0m                                 Traceback (most recent call last)",
      "\u001b[1;32m<ipython-input-2-e737e2c889e7>\u001b[0m in \u001b[0;36m<module>\u001b[1;34m\u001b[0m\n\u001b[1;32m----> 1\u001b[1;33m \u001b[0mos\u001b[0m\u001b[1;33m.\u001b[0m\u001b[0mchdir\u001b[0m\u001b[1;33m(\u001b[0m\u001b[1;34m\"Proteomics Project\"\u001b[0m\u001b[1;33m)\u001b[0m\u001b[1;33m\u001b[0m\u001b[1;33m\u001b[0m\u001b[0m\n\u001b[0m",
      "\u001b[1;31mNameError\u001b[0m: name 'os' is not defined"
     ]
    }
   ],
   "source": [
    "os.chdir(\"Proteomics Project\")\n"
   ]
  },
  {
   "cell_type": "code",
   "execution_count": 16,
   "metadata": {},
   "outputs": [
    {
     "name": "stderr",
     "output_type": "stream",
     "text": [
      "C:\\Users\\bansa\\anaconda3\\lib\\site-packages\\ipykernel\\ipkernel.py:287: DeprecationWarning: `should_run_async` will not call `transform_cell` automatically in the future. Please pass the result to `transformed_cell` argument and any exception that happen during thetransform in `preprocessing_exc_tuple` in IPython 7.17 and above.\n",
      "  and should_run_async(code)\n"
     ]
    }
   ],
   "source": [
    "import numpy as np\n",
    "from Bio.Seq import Seq\n",
    "\n",
    "import fastaparser"
   ]
  },
  {
   "cell_type": "code",
   "execution_count": 19,
   "metadata": {
    "scrolled": true
   },
   "outputs": [
    {
     "name": "stdout",
     "output_type": "stream",
     "text": [
      "['Kerala_Trans.fasta']\n"
     ]
    },
    {
     "name": "stderr",
     "output_type": "stream",
     "text": [
      "C:\\Users\\bansa\\anaconda3\\lib\\site-packages\\ipykernel\\ipkernel.py:287: DeprecationWarning: `should_run_async` will not call `transform_cell` automatically in the future. Please pass the result to `transformed_cell` argument and any exception that happen during thetransform in `preprocessing_exc_tuple` in IPython 7.17 and above.\n",
      "  and should_run_async(code)\n",
      "<ipython-input-19-7e8f61f9b842>:7: ResourceWarning: unclosed scandir iterator <nt.ScandirIterator object at 0x000002BE07CE1700>\n",
      "  dirs = os.scandir( path )\n",
      "ResourceWarning: Enable tracemalloc to get the object allocation traceback\n"
     ]
    }
   ],
   "source": [
    "import os\n",
    " \n",
    "# assign directory\n",
    "#Dividing the 36 files in many directories(5-6) would help. Also once the code is run it generate sequences for each file in the directory\n",
    "path = 'test2'\n",
    "filenames= os.listdir(path)\n",
    "dirs = os.scandir( path )\n",
    "print(filenames)\n",
    "# iterate over files in\n",
    "# that directory\n"
   ]
  },
  {
   "cell_type": "code",
   "execution_count": 20,
   "metadata": {},
   "outputs": [
    {
     "name": "stderr",
     "output_type": "stream",
     "text": [
      "C:\\Users\\bansa\\anaconda3\\lib\\site-packages\\ipykernel\\ipkernel.py:287: DeprecationWarning: `should_run_async` will not call `transform_cell` automatically in the future. Please pass the result to `transformed_cell` argument and any exception that happen during thetransform in `preprocessing_exc_tuple` in IPython 7.17 and above.\n",
      "  and should_run_async(code)\n"
     ]
    },
    {
     "name": "stdout",
     "output_type": "stream",
     "text": [
      "97\n",
      "16\n",
      "15\n",
      "97\n",
      "16\n",
      "15\n",
      "97\n",
      "16\n",
      "15\n",
      "97\n",
      "16\n",
      "15\n",
      "97\n",
      "16\n",
      "15\n",
      "97\n",
      "16\n",
      "15\n",
      "97\n",
      "16\n",
      "15\n",
      "97\n",
      "16\n",
      "15\n",
      "97\n",
      "16\n",
      "15\n",
      "97\n",
      "16\n",
      "15\n",
      "16\n",
      "15\n",
      "97\n",
      "15\n",
      "97\n",
      "16\n",
      "97\n",
      "16\n",
      "15\n",
      "16\n",
      "15\n",
      "97\n",
      "15\n",
      "96\n",
      "16\n",
      "15\n",
      "96\n",
      "16\n",
      "15\n",
      "97\n",
      "16\n",
      "15\n",
      "97\n",
      "16\n",
      "97\n",
      "16\n",
      "15\n",
      "15\n",
      "97\n",
      "16\n",
      "97\n",
      "16\n",
      "15\n",
      "16\n",
      "15\n",
      "97\n",
      "15\n",
      "97\n",
      "16\n",
      "16\n",
      "15\n",
      "97\n",
      "97\n",
      "16\n",
      "15\n",
      "16\n",
      "15\n",
      "97\n",
      "15\n",
      "97\n",
      "16\n",
      "15\n",
      "97\n",
      "16\n",
      "97\n",
      "16\n",
      "15\n",
      "97\n",
      "16\n",
      "15\n",
      "97\n",
      "16\n",
      "15\n",
      "16\n",
      "15\n",
      "97\n",
      "15\n",
      "97\n",
      "16\n",
      "97\n",
      "16\n",
      "15\n",
      "15\n",
      "97\n",
      "16\n",
      "15\n",
      "97\n",
      "16\n",
      "15\n",
      "97\n",
      "16\n",
      "15\n",
      "97\n",
      "16\n",
      "16\n",
      "15\n",
      "97\n",
      "16\n",
      "15\n",
      "97\n",
      "15\n",
      "97\n",
      "16\n",
      "16\n",
      "15\n",
      "97\n",
      "16\n",
      "15\n",
      "97\n"
     ]
    },
    {
     "ename": "KeyboardInterrupt",
     "evalue": "",
     "output_type": "error",
     "traceback": [
      "\u001b[1;31m---------------------------------------------------------------------------\u001b[0m",
      "\u001b[1;31mKeyboardInterrupt\u001b[0m                         Traceback (most recent call last)",
      "\u001b[1;32m<ipython-input-20-0d5ae912a115>\u001b[0m in \u001b[0;36m<module>\u001b[1;34m\u001b[0m\n\u001b[0;32m     31\u001b[0m             \u001b[0mlen_l2\u001b[0m \u001b[1;33m=\u001b[0m \u001b[0mlen\u001b[0m\u001b[1;33m(\u001b[0m\u001b[0ml2\u001b[0m\u001b[1;33m)\u001b[0m\u001b[1;33m\u001b[0m\u001b[1;33m\u001b[0m\u001b[0m\n\u001b[0;32m     32\u001b[0m             \u001b[1;32mfor\u001b[0m \u001b[0mi\u001b[0m \u001b[1;32min\u001b[0m \u001b[0mrange\u001b[0m\u001b[1;33m(\u001b[0m\u001b[1;36m0\u001b[0m\u001b[1;33m,\u001b[0m\u001b[0mlen_l2\u001b[0m\u001b[1;33m-\u001b[0m\u001b[0msequence_length\u001b[0m\u001b[1;33m+\u001b[0m\u001b[1;36m1\u001b[0m\u001b[1;33m)\u001b[0m\u001b[1;33m:\u001b[0m\u001b[1;33m\u001b[0m\u001b[1;33m\u001b[0m\u001b[0m\n\u001b[1;32m---> 33\u001b[1;33m                 \u001b[0ml3\u001b[0m \u001b[1;33m=\u001b[0m \u001b[0ml2\u001b[0m\u001b[1;33m[\u001b[0m\u001b[0mi\u001b[0m\u001b[1;33m:\u001b[0m\u001b[0mi\u001b[0m\u001b[1;33m+\u001b[0m\u001b[0msequence_length\u001b[0m\u001b[1;33m]\u001b[0m\u001b[1;33m\u001b[0m\u001b[1;33m\u001b[0m\u001b[0m\n\u001b[0m\u001b[0;32m     34\u001b[0m                 \u001b[0msum\u001b[0m\u001b[1;33m=\u001b[0m\u001b[1;36m0\u001b[0m\u001b[1;33m\u001b[0m\u001b[1;33m\u001b[0m\u001b[0m\n\u001b[0;32m     35\u001b[0m \u001b[1;33m\u001b[0m\u001b[0m\n",
      "\u001b[1;32m~\\anaconda3\\lib\\site-packages\\Bio\\Seq.py\u001b[0m in \u001b[0;36m__getitem__\u001b[1;34m(self, index)\u001b[0m\n\u001b[0;32m    218\u001b[0m         \u001b[1;32melse\u001b[0m\u001b[1;33m:\u001b[0m\u001b[1;33m\u001b[0m\u001b[1;33m\u001b[0m\u001b[0m\n\u001b[0;32m    219\u001b[0m             \u001b[1;31m# Return the (sub)sequence as another Seq object\u001b[0m\u001b[1;33m\u001b[0m\u001b[1;33m\u001b[0m\u001b[1;33m\u001b[0m\u001b[0m\n\u001b[1;32m--> 220\u001b[1;33m             \u001b[1;32mreturn\u001b[0m \u001b[0mSeq\u001b[0m\u001b[1;33m(\u001b[0m\u001b[0mself\u001b[0m\u001b[1;33m.\u001b[0m\u001b[0m_data\u001b[0m\u001b[1;33m[\u001b[0m\u001b[0mindex\u001b[0m\u001b[1;33m]\u001b[0m\u001b[1;33m)\u001b[0m\u001b[1;33m\u001b[0m\u001b[1;33m\u001b[0m\u001b[0m\n\u001b[0m\u001b[0;32m    221\u001b[0m \u001b[1;33m\u001b[0m\u001b[0m\n\u001b[0;32m    222\u001b[0m     \u001b[1;32mdef\u001b[0m \u001b[0m__add__\u001b[0m\u001b[1;33m(\u001b[0m\u001b[0mself\u001b[0m\u001b[1;33m,\u001b[0m \u001b[0mother\u001b[0m\u001b[1;33m)\u001b[0m\u001b[1;33m:\u001b[0m\u001b[1;33m\u001b[0m\u001b[1;33m\u001b[0m\u001b[0m\n",
      "\u001b[1;31mKeyboardInterrupt\u001b[0m: "
     ]
    }
   ],
   "source": [
    "filenumber=0\n",
    "for file in dirs:\n",
    "\n",
    "    score=[]\n",
    "\n",
    "\n",
    "    score_main = []\n",
    "    strings_main= []\n",
    "    \n",
    "    #for spike the length =1273\n",
    "\n",
    "    num = 0\n",
    "    run= 0\n",
    "    \n",
    "    #Change this for a different protein\n",
    "    sequence_length=97\n",
    "    Protein = \"ORF_9B\"\n",
    "    with open(\"ORF_9B.fasta\") as fasta_file:\n",
    "        parser = fastaparser.Reader(fasta_file)\n",
    "        for seq in parser:\n",
    "            a = seq.sequence_as_string()\n",
    "            l1=Seq(a)\n",
    "    with open(file)as fasta_file:\n",
    "        parser = fastaparser.Reader(fasta_file)\n",
    "        for seq in parser:\n",
    "            num = num+1\n",
    "            sum = 0\n",
    "\n",
    "            b = seq.sequence_as_string()\n",
    "            l2=Seq(b)\n",
    "            len_l2 = len(l2)\n",
    "            for i in range(0,len_l2-sequence_length+1):\n",
    "                l3 = l2[i:i+sequence_length]\n",
    "                sum=0\n",
    "\n",
    "\n",
    "                for j in range(0,sequence_length):\n",
    "                    if (l1[j]==l3[j]):\n",
    "                        sum = sum+1\n",
    "\n",
    "                score.append(sum)\n",
    "\n",
    "            print(max(score, default = 0))\n",
    "\n",
    "            score_main.append(max(score, default = 0))\n",
    "            if (max(score, default = 0)>75):\n",
    "            #for other protein a suitable score can be chosen to reduce time complexity(for eg 1000 in case of 1273 sequence_length is a suitable score)\n",
    "\n",
    "                score_np=np.array(score)\n",
    "                score_argsort=score_np.argsort()[::-1][:]\n",
    "\n",
    "                for t in score_argsort:\n",
    "            \n",
    "                    #print(l1[0])\n",
    "                    #print(l2[int(t)])\n",
    "                    if(str(l1[0])==str(l2[int(t)])):\n",
    "                        strings_main.append(l2[t:t+sequence_length])\n",
    "                        #print(l2[i:i+sequence_length])\n",
    "                        break\n",
    "\n",
    "\n",
    "\n",
    "            #print(len(strings[score.index(max(score, default = 0))]))\n",
    "            #print(strings[score.index(max(score, default = 0))])\n",
    "\n",
    "\n",
    "\n",
    "            run=run+1\n",
    "            #print(run)\n",
    "            score=[]\n",
    "\n",
    "    \n",
    "    \n",
    "    #print(strings_main)\n",
    "    #Once sequence are extracted in array strings_main they are stored in a folder corresponding to the protein \n",
    "    #if(filenumber==0):\n",
    "        #os.mkdir(Protein)\n",
    "    os.chdir(test)\n",
    "    for string in strings_main:\n",
    "\n",
    "        f = open(Protein+\"_\"+filenames[filenumber], \"a\")\n",
    "        f.write(\">\")\n",
    "        f.write(Protein)\n",
    "        f.write(\"\\n\")\n",
    "        f.write(str(string))\n",
    "        f.write(\"\\n\")\n",
    "        f.write(\"\\n\")\n",
    "        f.close()\n",
    "    print(filenumber)    \n",
    "    print(\"Wrote %i sequences to \"% (len(strings_main)) +Protein + \"_\"+filenames[filenumber]) \n",
    "    os.chdir(\"..\")  \n",
    "    filenumber= filenumber+1"
   ]
  },
  {
   "cell_type": "code",
   "execution_count": 4,
   "metadata": {
    "scrolled": true
   },
   "outputs": [
    {
     "name": "stderr",
     "output_type": "stream",
     "text": [
      "C:\\Users\\bansa\\anaconda3\\lib\\site-packages\\ipykernel\\ipkernel.py:287: DeprecationWarning: `should_run_async` will not call `transform_cell` automatically in the future. Please pass the result to `transformed_cell` argument and any exception that happen during thetransform in `preprocessing_exc_tuple` in IPython 7.17 and above.\n",
      "  and should_run_async(code)\n"
     ]
    }
   ],
   "source": [
    "#Ignore all codes below this .These were written just for testing purposes\n",
    "for j in sequences_main:\n",
    "    \n",
    "    f = open(\"segregated_protein_sequence_modified.fasta\", \"a\")\n",
    "    f.write(\">\")\n",
    "    f.write(\"spike\")\n",
    "    f.write(\"\\n\")\n",
    "    f.write(str(j))\n",
    "    f.write(\"\\n\")\n",
    "    f.write(\"\\n\")\n",
    "    f.close()"
   ]
  },
  {
   "cell_type": "code",
   "execution_count": 23,
   "metadata": {},
   "outputs": [
    {
     "name": "stderr",
     "output_type": "stream",
     "text": [
      "C:\\Users\\bansa\\anaconda3\\lib\\site-packages\\ipykernel\\ipkernel.py:287: DeprecationWarning: `should_run_async` will not call `transform_cell` automatically in the future. Please pass the result to `transformed_cell` argument and any exception that happen during thetransform in `preprocessing_exc_tuple` in IPython 7.17 and above.\n",
      "  and should_run_async(code)\n"
     ]
    },
    {
     "data": {
      "text/plain": [
       "'C:\\\\Users\\\\bansa\\\\Downloads\\\\Proteomics Project'"
      ]
     },
     "execution_count": 23,
     "metadata": {},
     "output_type": "execute_result"
    }
   ],
   "source": [
    "os.getcwd()"
   ]
  },
  {
   "cell_type": "code",
   "execution_count": 22,
   "metadata": {},
   "outputs": [
    {
     "name": "stderr",
     "output_type": "stream",
     "text": [
      "C:\\Users\\bansa\\anaconda3\\lib\\site-packages\\ipykernel\\ipkernel.py:287: DeprecationWarning: `should_run_async` will not call `transform_cell` automatically in the future. Please pass the result to `transformed_cell` argument and any exception that happen during thetransform in `preprocessing_exc_tuple` in IPython 7.17 and above.\n",
      "  and should_run_async(code)\n"
     ]
    }
   ],
   "source": [
    "os.chdir(\"Downloads/Proteomics Project\")"
   ]
  },
  {
   "cell_type": "code",
   "execution_count": 10,
   "metadata": {},
   "outputs": [
    {
     "name": "stderr",
     "output_type": "stream",
     "text": [
      "C:\\Users\\bansa\\anaconda3\\lib\\site-packages\\ipykernel\\ipkernel.py:287: DeprecationWarning: `should_run_async` will not call `transform_cell` automatically in the future. Please pass the result to `transformed_cell` argument and any exception that happen during thetransform in `preprocessing_exc_tuple` in IPython 7.17 and above.\n",
      "  and should_run_async(code)\n",
      "<ipython-input-10-ac9e3e3d870a>:8: ResourceWarning: unclosed file <_io.TextIOWrapper name='Replicase_Delhi_Trans_2.fasta' mode='a' encoding='cp1252'>\n",
      "  f = open(\"Replicase_Delhi_Trans_2.fasta\", \"a\")\n",
      "ResourceWarning: Enable tracemalloc to get the object allocation traceback\n"
     ]
    }
   ],
   "source": [
    "with open(\"Replicase_Delhi_Trans.fasta\")as fasta_file:\n",
    "        parser = fastaparser.Reader(fasta_file)\n",
    "        num=1\n",
    "        for seq in parser:\n",
    "            if(num> 3282):\n",
    "                b = seq.sequence_as_string()\n",
    "                l2=Seq(b)\n",
    "                f = open(\"Replicase_Delhi_Trans_2.fasta\", \"a\")\n",
    "                f.write(\">\")\n",
    "                f.write(Protein)\n",
    "                f.write(\"\\n\")\n",
    "                f.write(str(l2))\n",
    "                f.write(\"\\n\")\n",
    "                f.write(\"\\n\")\n",
    "                f.close()\n",
    "            num=num+1    \n",
    "        #print(len(parser))"
   ]
  },
  {
   "cell_type": "code",
   "execution_count": null,
   "metadata": {},
   "outputs": [],
   "source": []
  }
 ],
 "metadata": {
  "kernelspec": {
   "display_name": "Python 3",
   "language": "python",
   "name": "python3"
  },
  "language_info": {
   "codemirror_mode": {
    "name": "ipython",
    "version": 3
   },
   "file_extension": ".py",
   "mimetype": "text/x-python",
   "name": "python",
   "nbconvert_exporter": "python",
   "pygments_lexer": "ipython3",
   "version": "3.8.5"
  }
 },
 "nbformat": 4,
 "nbformat_minor": 4
}
