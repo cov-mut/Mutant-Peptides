{
 "cells": [
  {
   "cell_type": "code",
   "execution_count": 1,
   "metadata": {},
   "outputs": [],
   "source": [
    "import numpy as np\n",
    "from Bio.Seq import Seq\n",
    "\n",
    "import numpy as np\n",
    "import fastaparser"
   ]
  },
  {
   "cell_type": "code",
   "execution_count": 92,
   "metadata": {},
   "outputs": [
    {
     "name": "stderr",
     "output_type": "stream",
     "text": [
      "C:\\Users\\bansa\\anaconda3\\lib\\site-packages\\ipykernel\\ipkernel.py:287: DeprecationWarning: `should_run_async` will not call `transform_cell` automatically in the future. Please pass the result to `transformed_cell` argument and any exception that happen during thetransform in `preprocessing_exc_tuple` in IPython 7.17 and above.\n",
      "  and should_run_async(code)\n"
     ]
    }
   ],
   "source": [
    "Proteins= [\"Replicase\", \"Envelope_Small_Protein\",\"Membrane\", \"ORF_3A\",\"ORF_7A\",\"ORF_8\",\"ORF_9C\",\"ORF_10\"]"
   ]
  },
  {
   "cell_type": "code",
   "execution_count": 84,
   "metadata": {},
   "outputs": [
    {
     "name": "stdout",
     "output_type": "stream",
     "text": [
      "['Nucleoprotein_Andaman and Nicobar Islands_Trans.fasta', 'Nucleoprotein_Andra Pradesh_Trans.fasta', 'Nucleoprotein_Arunachal Pradesh_Trans.fasta', 'Nucleoprotein_Assam_Trans.fasta', 'Nucleoprotein_Bihar_Trans.fasta', 'Nucleoprotein_Chandigarh_Trans.fasta', 'Nucleoprotein_Chattisgarh_Trans.fasta', 'Nucleoprotein_Dadra and Nagar Haveli and Daman and Diu_Trans.fasta', 'Nucleoprotein_Delhi_Trans.fasta', 'Nucleoprotein_Goa_Trans.fasta', 'Nucleoprotein_Gujarat_Trans.fasta', 'Nucleoprotein_Haryana_Trans.fasta', 'Nucleoprotein_Himachal Pradesh_Trans.fasta', 'Nucleoprotein_Jammu and Kashmir_Trans.fasta', 'Nucleoprotein_Jharkhand_Trans.fasta', 'Nucleoprotein_Karnataka_Trans.fasta', 'Nucleoprotein_Kerala_Trans.fasta', 'Nucleoprotein_Ladhak_Trans.fasta.fasta', 'Nucleoprotein_Lakshadweep_Trans.fasta', 'Nucleoprotein_Madhya Pradesh_Trans.fasta', 'Nucleoprotein_Maharashtra_Trans.fasta', 'Nucleoprotein_Manipur_Trans.fasta', 'Nucleoprotein_Meghalaya_Trans.fasta', 'Nucleoprotein_Mizoram_Trans.fasta', 'Nucleoprotein_Nagaland_Trans.fasta', 'Nucleoprotein_Odisha_Trans.fasta', 'Nucleoprotein_Puducherry_Trans.fasta', 'Nucleoprotein_Punjab_Trans.fasta', 'Nucleoprotein_Rajasthan_Trans.fasta', 'Nucleoprotein_Sikkim_Trans.fasta', 'Nucleoprotein_Tamil Nadu_Trans.fasta', 'Nucleoprotein_Telangana_Trans.fasta', 'Nucleoprotein_Tripura_Trans.fasta', 'Nucleoprotein_Uttar Pradesh_Trans.fasta', 'Nucleoprotein_Uttarakhand_Trans.fasta', 'Nucleoprotein_West Bengal_Trans.fasta']\n"
     ]
    },
    {
     "name": "stderr",
     "output_type": "stream",
     "text": [
      "C:\\Users\\bansa\\anaconda3\\lib\\site-packages\\ipykernel\\ipkernel.py:287: DeprecationWarning: `should_run_async` will not call `transform_cell` automatically in the future. Please pass the result to `transformed_cell` argument and any exception that happen during thetransform in `preprocessing_exc_tuple` in IPython 7.17 and above.\n",
      "  and should_run_async(code)\n"
     ]
    }
   ],
   "source": [
    "import os\n",
    " \n",
    "# assign directory\n",
    "Protein = \"Nucleoprotein\" \n",
    "path = Protein\n",
    "filenames= os.listdir(path)\n",
    "dirs = os.scandir( path )\n",
    "print(filenames)\n",
    "# iterate over files in\n",
    "# that directory"
   ]
  },
  {
   "cell_type": "code",
   "execution_count": 93,
   "metadata": {},
   "outputs": [
    {
     "name": "stderr",
     "output_type": "stream",
     "text": [
      "C:\\Users\\bansa\\anaconda3\\lib\\site-packages\\ipykernel\\ipkernel.py:287: DeprecationWarning: `should_run_async` will not call `transform_cell` automatically in the future. Please pass the result to `transformed_cell` argument and any exception that happen during thetransform in `preprocessing_exc_tuple` in IPython 7.17 and above.\n",
      "  and should_run_async(code)\n",
      "<ipython-input-93-70b5000873de>:5: ResourceWarning: unclosed scandir iterator <nt.ScandirIterator object at 0x000001FF48C23D70>\n",
      "  dirs = os.scandir( path )\n",
      "ResourceWarning: Enable tracemalloc to get the object allocation traceback\n"
     ]
    },
    {
     "name": "stdout",
     "output_type": "stream",
     "text": [
      "Replicase\n",
      "['Replicase_Andaman and Nicobar Islands_Trans.fasta', 'Replicase_Andra Pradesh_Trans.fasta', 'Replicase_Arunachal Pradesh_Trans.fasta', 'Replicase_Assam_Trans.fasta', 'Replicase_Bihar_Trans.fasta', 'Replicase_Chandigarh_Trans.fasta', 'Replicase_Chattisgarh_Trans.fasta', 'Replicase_Dadra and Nagar Haveli and Daman and Diu_Trans.fasta', 'Replicase_Delhi_Trans.fasta', 'Replicase_Goa_Trans.fasta', 'Replicase_Gujarat_Trans.fasta', 'Replicase_Haryana_Trans.fasta', 'Replicase_Himachal Pradesh_Trans.fasta', 'Replicase_Jammu and Kashmir_Trans.fasta', 'Replicase_Jharkhand_Trans.fasta', 'Replicase_Karnataka_Trans.fasta', 'Replicase_Kerala_Trans.fasta', 'Replicase_Ladhak_Trans.fasta.fasta', 'Replicase_Lakshadweep_Trans.fasta', 'Replicase_Madhya Pradesh_Trans.fasta', 'Replicase_Maharashtra_Trans.fasta', 'Replicase_Manipur_Trans.fasta', 'Replicase_Meghalaya_Trans.fasta', 'Replicase_Mizoram_Trans.fasta', 'Replicase_Nagaland_Trans.fasta', 'Replicase_Odisha_Trans.fasta', 'Replicase_Puducherry_Trans.fasta', 'Replicase_Punjab_Trans.fasta', 'Replicase_Rajasthan_Trans.fasta', 'Replicase_Sikkim_Trans.fasta', 'Replicase_Tamil Nadu_Trans.fasta', 'Replicase_Telangana_Trans.fasta', 'Replicase_Tripura_Trans.fasta', 'Replicase_Uttar Pradesh_Trans.fasta', 'Replicase_Uttarakhand_Trans.fasta', 'Replicase_West Bengal_Trans.fasta']\n",
      "Envelope_Small_Protein\n",
      "['Envelope_Small_Protein_Andaman and Nicobar Islands_Trans.fasta', 'Envelope_Small_Protein_Andra Pradesh_Trans.fasta', 'Envelope_Small_Protein_Arunachal Pradesh_Trans.fasta', 'Envelope_Small_Protein_Assam_Trans.fasta', 'Envelope_Small_Protein_Bihar_Trans.fasta', 'Envelope_Small_Protein_Chandigarh_Trans.fasta', 'Envelope_Small_Protein_Chattisgarh_Trans.fasta', 'Envelope_Small_Protein_Dadra and Nagar Haveli and Daman and Diu_Trans.fasta', 'Envelope_Small_Protein_Delhi_Trans.fasta', 'Envelope_Small_Protein_Goa_Trans.fasta', 'Envelope_Small_Protein_Gujarat_Trans.fasta', 'Envelope_Small_Protein_Haryana_Trans.fasta', 'Envelope_Small_Protein_Himachal Pradesh_Trans.fasta', 'Envelope_Small_Protein_Jammu and Kashmir_Trans.fasta', 'Envelope_Small_Protein_Jharkhand_Trans.fasta', 'Envelope_Small_Protein_Karnataka_Trans.fasta', 'Envelope_Small_Protein_Kerala_Trans.fasta', 'Envelope_Small_Protein_Ladhak_Trans.fasta.fasta', 'Envelope_Small_Protein_Lakshadweep_Trans.fasta', 'Envelope_Small_Protein_Madhya Pradesh_Trans.fasta', 'Envelope_Small_Protein_Maharashtra_Trans.fasta', 'Envelope_Small_Protein_Manipur_Trans.fasta', 'Envelope_Small_Protein_Meghalaya_Trans.fasta', 'Envelope_Small_Protein_Mizoram_Trans.fasta', 'Envelope_Small_Protein_Nagaland_Trans.fasta', 'Envelope_Small_Protein_Odisha_Trans.fasta', 'Envelope_Small_Protein_Puducherry_Trans.fasta', 'Envelope_Small_Protein_Punjab_Trans.fasta', 'Envelope_Small_Protein_Rajasthan_Trans.fasta', 'Envelope_Small_Protein_Sikkim_Trans.fasta', 'Envelope_Small_Protein_Tamil Nadu_Trans.fasta', 'Envelope_Small_Protein_Telangana_Trans.fasta', 'Envelope_Small_Protein_Tripura_Trans.fasta', 'Envelope_Small_Protein_Uttar Pradesh_Trans.fasta', 'Envelope_Small_Protein_Uttarakhand_Trans.fasta', 'Envelope_Small_Protein_West Bengal_Trans.fasta']\n",
      "Membrane\n",
      "['Membrane_Andaman and Nicobar Islands_Trans.fasta', 'Membrane_Andra Pradesh_Trans.fasta', 'Membrane_Arunachal Pradesh_Trans.fasta', 'Membrane_Assam_Trans.fasta', 'Membrane_Bihar_Trans.fasta', 'Membrane_Chandigarh_Trans.fasta', 'Membrane_Chattisgarh_Trans.fasta', 'Membrane_Dadra and Nagar Haveli and Daman and Diu_Trans.fasta', 'Membrane_Delhi_Trans.fasta', 'Membrane_Goa_Trans.fasta', 'Membrane_Gujarat_Trans.fasta', 'Membrane_Haryana_Trans.fasta', 'Membrane_Himachal Pradesh_Trans.fasta', 'Membrane_Jammu and Kashmir_Trans.fasta', 'Membrane_Jharkhand_Trans.fasta', 'Membrane_Karnataka_Trans.fasta', 'Membrane_Kerala_Trans.fasta', 'Membrane_Ladhak_Trans.fasta.fasta', 'Membrane_Lakshadweep_Trans.fasta', 'Membrane_Madhya Pradesh_Trans.fasta', 'Membrane_Maharashtra_Trans.fasta', 'Membrane_Manipur_Trans.fasta', 'Membrane_Meghalaya_Trans.fasta', 'Membrane_Mizoram_Trans.fasta', 'Membrane_Nagaland_Trans.fasta', 'Membrane_Odisha_Trans.fasta', 'Membrane_Puducherry_Trans.fasta', 'Membrane_Punjab_Trans.fasta', 'Membrane_Rajasthan_Trans.fasta', 'Membrane_Sikkim_Trans.fasta', 'Membrane_Tamil Nadu_Trans.fasta', 'Membrane_Telangana_Trans.fasta', 'Membrane_Tripura_Trans.fasta', 'Membrane_Uttar Pradesh_Trans.fasta', 'Membrane_Uttarakhand_Trans.fasta', 'Membrane_West Bengal_Trans.fasta']\n",
      "ORF_3A\n",
      "['ORF_3A_Andaman and Nicobar Islands_Trans.fasta', 'ORF_3A_Andra Pradesh_Trans.fasta', 'ORF_3A_Arunachal Pradesh_Trans.fasta', 'ORF_3A_Assam_Trans.fasta', 'ORF_3A_Bihar_Trans.fasta', 'ORF_3A_Chandigarh_Trans.fasta', 'ORF_3A_Chattisgarh_Trans.fasta', 'ORF_3A_Dadra and Nagar Haveli and Daman and Diu_Trans.fasta', 'ORF_3A_Delhi_Trans.fasta', 'ORF_3A_Goa_Trans.fasta', 'ORF_3A_Gujarat_Trans.fasta', 'ORF_3A_Haryana_Trans.fasta', 'ORF_3A_Himachal Pradesh_Trans.fasta', 'ORF_3A_Jammu and Kashmir_Trans.fasta', 'ORF_3A_Jharkhand_Trans.fasta', 'ORF_3A_Karnataka_Trans.fasta', 'ORF_3A_Kerala_Trans.fasta', 'ORF_3A_Ladhak_Trans.fasta.fasta', 'ORF_3A_Lakshadweep_Trans.fasta', 'ORF_3A_Madhya Pradesh_Trans.fasta', 'ORF_3A_Maharashtra_Trans.fasta', 'ORF_3A_Manipur_Trans.fasta', 'ORF_3A_Meghalaya_Trans.fasta', 'ORF_3A_Mizoram_Trans.fasta', 'ORF_3A_Nagaland_Trans.fasta', 'ORF_3A_Odisha_Trans.fasta', 'ORF_3A_Puducherry_Trans.fasta', 'ORF_3A_Punjab_Trans.fasta', 'ORF_3A_Rajasthan_Trans.fasta', 'ORF_3A_Sikkim_Trans.fasta', 'ORF_3A_Tamil Nadu_Trans.fasta', 'ORF_3A_Telangana_Trans.fasta', 'ORF_3A_Tripura_Trans.fasta', 'ORF_3A_Uttar Pradesh_Trans.fasta', 'ORF_3A_Uttarakhand_Trans.fasta', 'ORF_3A_West Bengal_Trans.fasta']\n",
      "ORF_7A\n",
      "['ORF_7A_Andaman and Nicobar Islands_Trans.fasta', 'ORF_7A_Andra Pradesh_Trans.fasta', 'ORF_7A_Arunachal Pradesh_Trans.fasta', 'ORF_7A_Assam_Trans.fasta', 'ORF_7A_Bihar_Trans.fasta', 'ORF_7A_Chandigarh_Trans.fasta', 'ORF_7A_Chattisgarh_Trans.fasta', 'ORF_7A_Dadra and Nagar Haveli and Daman and Diu_Trans.fasta', 'ORF_7A_Delhi_Trans.fasta', 'ORF_7A_Goa_Trans.fasta', 'ORF_7A_Gujarat_Trans.fasta', 'ORF_7A_Haryana_Trans.fasta', 'ORF_7A_Himachal Pradesh_Trans.fasta', 'ORF_7A_Jammu and Kashmir_Trans.fasta', 'ORF_7A_Jharkhand_Trans.fasta', 'ORF_7A_Karnataka_Trans.fasta', 'ORF_7A_Kerala_Trans.fasta', 'ORF_7A_Ladhak_Trans.fasta.fasta', 'ORF_7A_Lakshadweep_Trans.fasta', 'ORF_7A_Madhya Pradesh_Trans.fasta', 'ORF_7A_Maharashtra_Trans.fasta', 'ORF_7A_Manipur_Trans.fasta', 'ORF_7A_Meghalaya_Trans.fasta', 'ORF_7A_Mizoram_Trans.fasta', 'ORF_7A_Nagaland_Trans.fasta', 'ORF_7A_Odisha_Trans.fasta', 'ORF_7A_Puducherry_Trans.fasta', 'ORF_7A_Punjab_Trans.fasta', 'ORF_7A_Rajasthan_Trans.fasta', 'ORF_7A_Sikkim_Trans.fasta', 'ORF_7A_Tamil Nadu_Trans.fasta', 'ORF_7A_Telangana_Trans.fasta', 'ORF_7A_Tripura_Trans.fasta', 'ORF_7A_Uttar Pradesh_Trans.fasta', 'ORF_7A_Uttarakhand_Trans.fasta', 'ORF_7A_West Bengal_Trans.fasta']\n",
      "ORF_8\n",
      "['ORF_8_Andaman and Nicobar Islands_Trans.fasta', 'ORF_8_Andra Pradesh_Trans.fasta', 'ORF_8_Arunachal Pradesh_Trans.fasta', 'ORF_8_Assam_Trans.fasta', 'ORF_8_Bihar_Trans.fasta', 'ORF_8_Chandigarh_Trans.fasta', 'ORF_8_Chattisgarh_Trans.fasta', 'ORF_8_Dadra and Nagar Haveli and Daman and Diu_Trans.fasta', 'ORF_8_Delhi_Trans.fasta', 'ORF_8_Goa_Trans.fasta', 'ORF_8_Gujarat_Trans.fasta', 'ORF_8_Haryana_Trans.fasta', 'ORF_8_Himachal Pradesh_Trans.fasta', 'ORF_8_Jammu and Kashmir_Trans.fasta', 'ORF_8_Jharkhand_Trans.fasta', 'ORF_8_Karnataka_Trans.fasta', 'ORF_8_Kerala_Trans.fasta', 'ORF_8_Ladhak_Trans.fasta.fasta', 'ORF_8_Lakshadweep_Trans.fasta', 'ORF_8_Madhya Pradesh_Trans.fasta', 'ORF_8_Maharashtra_Trans.fasta', 'ORF_8_Manipur_Trans.fasta', 'ORF_8_Meghalaya_Trans.fasta', 'ORF_8_Mizoram_Trans.fasta', 'ORF_8_Nagaland_Trans.fasta', 'ORF_8_Odisha_Trans.fasta', 'ORF_8_Puducherry_Trans.fasta', 'ORF_8_Punjab_Trans.fasta', 'ORF_8_Rajasthan_Trans.fasta', 'ORF_8_Sikkim_Trans.fasta', 'ORF_8_Tamil Nadu_Trans.fasta', 'ORF_8_Telangana_Trans.fasta', 'ORF_8_Tripura_Trans.fasta', 'ORF_8_Uttar Pradesh_Trans.fasta', 'ORF_8_Uttarakhand_Trans.fasta', 'ORF_8_West Bengal_Trans.fasta']\n",
      "ORF_9C\n",
      "['ORF_9C_Andaman and Nicobar Islands_Trans.fasta', 'ORF_9C_Andra Pradesh_Trans.fasta', 'ORF_9C_Arunachal Pradesh_Trans.fasta', 'ORF_9C_Assam_Trans.fasta', 'ORF_9C_Bihar_Trans.fasta', 'ORF_9C_Chandigarh_Trans.fasta', 'ORF_9C_Chattisgarh_Trans.fasta', 'ORF_9C_Dadra and Nagar Haveli and Daman and Diu_Trans.fasta', 'ORF_9C_Delhi_Trans.fasta', 'ORF_9C_Goa_Trans.fasta', 'ORF_9C_Gujarat_Trans.fasta', 'ORF_9C_Haryana_Trans.fasta', 'ORF_9C_Himachal Pradesh_Trans.fasta', 'ORF_9C_Jammu and Kashmir_Trans.fasta', 'ORF_9C_Jharkhand_Trans.fasta', 'ORF_9C_Karnataka_Trans.fasta', 'ORF_9C_Kerala_Trans.fasta', 'ORF_9C_Ladhak_Trans.fasta.fasta', 'ORF_9C_Lakshadweep_Trans.fasta', 'ORF_9C_Madhya Pradesh_Trans.fasta', 'ORF_9C_Maharashtra_Trans.fasta', 'ORF_9C_Manipur_Trans.fasta', 'ORF_9C_Meghalaya_Trans.fasta', 'ORF_9C_Mizoram_Trans.fasta', 'ORF_9C_Nagaland_Trans.fasta', 'ORF_9C_Odisha_Trans.fasta', 'ORF_9C_Puducherry_Trans.fasta', 'ORF_9C_Punjab_Trans.fasta', 'ORF_9C_Rajasthan_Trans.fasta', 'ORF_9C_Sikkim_Trans.fasta', 'ORF_9C_Tamil Nadu_Trans.fasta', 'ORF_9C_Telangana_Trans.fasta', 'ORF_9C_Tripura_Trans.fasta', 'ORF_9C_Uttar Pradesh_Trans.fasta', 'ORF_9C_Uttarakhand_Trans.fasta', 'ORF_9C_West Bengal_Trans.fasta']\n"
     ]
    },
    {
     "name": "stdout",
     "output_type": "stream",
     "text": [
      "ORF_10\n",
      "['ORF_10_Andaman and Nicobar Islands_Trans.fasta', 'ORF_10_Andra Pradesh_Trans.fasta', 'ORF_10_Arunachal Pradesh_Trans.fasta', 'ORF_10_Assam_Trans.fasta', 'ORF_10_Bihar_Trans.fasta', 'ORF_10_Chandigarh_Trans.fasta', 'ORF_10_Chattisgarh_Trans.fasta', 'ORF_10_Dadra and Nagar Haveli and Daman and Diu_Trans.fasta', 'ORF_10_Delhi_Trans.fasta', 'ORF_10_Goa_Trans.fasta', 'ORF_10_Gujarat_Trans.fasta', 'ORF_10_Haryana_Trans.fasta', 'ORF_10_Himachal Pradesh_Trans.fasta', 'ORF_10_Jammu and Kashmir_Trans.fasta', 'ORF_10_Jharkhand_Trans.fasta', 'ORF_10_Karnataka_Trans.fasta', 'ORF_10_Kerala_Trans.fasta', 'ORF_10_Ladhak_Trans.fasta.fasta', 'ORF_10_Lakshadweep_Trans.fasta', 'ORF_10_Madhya Pradesh_Trans.fasta', 'ORF_10_Maharashtra_Trans.fasta', 'ORF_10_Manipur_Trans.fasta', 'ORF_10_Meghalaya_Trans.fasta', 'ORF_10_Mizoram_Trans.fasta', 'ORF_10_Nagaland_Trans.fasta', 'ORF_10_Odisha_Trans.fasta', 'ORF_10_Puducherry_Trans.fasta', 'ORF_10_Punjab_Trans.fasta', 'ORF_10_Rajasthan_Trans.fasta', 'ORF_10_Sikkim_Trans.fasta', 'ORF_10_Tamil Nadu_Trans.fasta', 'ORF_10_Telangana_Trans.fasta', 'ORF_10_Tripura_Trans.fasta', 'ORF_10_Uttar Pradesh_Trans.fasta', 'ORF_10_Uttarakhand_Trans.fasta', 'ORF_10_West Bengal_Trans.fasta']\n"
     ]
    }
   ],
   "source": [
    "for Protein in Proteins:\n",
    "    print(Protein)\n",
    "    path = Protein\n",
    "    filenames= os.listdir(path)\n",
    "    dirs = os.scandir( path )\n",
    "    print(filenames)\n",
    "    # iterate over files in\n",
    "    # that directory\n",
    "\n",
    "\n",
    "    for file in dirs:\n",
    "    \n",
    "   \n",
    "        with open(file)as fasta_file:\n",
    "            os.chdir(\"Combined State Files\")\n",
    "            parser = fastaparser.Reader(fasta_file)\n",
    "            for seq in parser:\n",
    "                f = open(Protein+\"_\"+\"Combined.fasta\", \"a\")\n",
    "                f.write(str(seq))\n",
    "                f.write(\"\\n\")\n",
    "                f.close()\n",
    "            os.chdir(\"..\")\n",
    "\n",
    "   "
   ]
  },
  {
   "cell_type": "code",
   "execution_count": 91,
   "metadata": {},
   "outputs": [
    {
     "name": "stderr",
     "output_type": "stream",
     "text": [
      "C:\\Users\\bansa\\anaconda3\\lib\\site-packages\\ipykernel\\ipkernel.py:287: DeprecationWarning: `should_run_async` will not call `transform_cell` automatically in the future. Please pass the result to `transformed_cell` argument and any exception that happen during thetransform in `preprocessing_exc_tuple` in IPython 7.17 and above.\n",
      "  and should_run_async(code)\n"
     ]
    },
    {
     "data": {
      "text/plain": [
       "'C:\\\\Users\\\\bansa\\\\Downloads\\\\Proteomics Project'"
      ]
     },
     "execution_count": 91,
     "metadata": {},
     "output_type": "execute_result"
    }
   ],
   "source": [
    "os.getcwd()"
   ]
  },
  {
   "cell_type": "code",
   "execution_count": 90,
   "metadata": {},
   "outputs": [
    {
     "name": "stderr",
     "output_type": "stream",
     "text": [
      "C:\\Users\\bansa\\anaconda3\\lib\\site-packages\\ipykernel\\ipkernel.py:287: DeprecationWarning: `should_run_async` will not call `transform_cell` automatically in the future. Please pass the result to `transformed_cell` argument and any exception that happen during thetransform in `preprocessing_exc_tuple` in IPython 7.17 and above.\n",
      "  and should_run_async(code)\n"
     ]
    }
   ],
   "source": [
    "os.chdir(\"..\")"
   ]
  },
  {
   "cell_type": "code",
   "execution_count": 67,
   "metadata": {},
   "outputs": [
    {
     "name": "stderr",
     "output_type": "stream",
     "text": [
      "C:\\Users\\bansa\\anaconda3\\lib\\site-packages\\ipykernel\\ipkernel.py:287: DeprecationWarning: `should_run_async` will not call `transform_cell` automatically in the future. Please pass the result to `transformed_cell` argument and any exception that happen during thetransform in `preprocessing_exc_tuple` in IPython 7.17 and above.\n",
      "  and should_run_async(code)\n"
     ]
    }
   ],
   "source": [
    "os.chdir(\"Proteomics Project\")"
   ]
  },
  {
   "cell_type": "code",
   "execution_count": null,
   "metadata": {},
   "outputs": [],
   "source": []
  }
 ],
 "metadata": {
  "kernelspec": {
   "display_name": "Python 3",
   "language": "python",
   "name": "python3"
  },
  "language_info": {
   "codemirror_mode": {
    "name": "ipython",
    "version": 3
   },
   "file_extension": ".py",
   "mimetype": "text/x-python",
   "name": "python",
   "nbconvert_exporter": "python",
   "pygments_lexer": "ipython3",
   "version": "3.8.5"
  }
 },
 "nbformat": 4,
 "nbformat_minor": 4
}
